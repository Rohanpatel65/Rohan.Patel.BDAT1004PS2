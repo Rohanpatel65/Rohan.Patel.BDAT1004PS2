{
 "cells": [
  {
   "cell_type": "markdown",
   "id": "5c74e4e8-b5dc-4662-867d-f152763d86c8",
   "metadata": {},
   "source": [
    "# Question 1\n",
    "<p>Consider the following Python module:<p>\n",
    "<p>a = 0<p>\n",
    "<p>def b():<p>\n",
    " <p>global a<p>\n",
    " <p>a = c(a)<p>\n",
    "<p>def c(a):<p>\n",
    " <p>return a + 2<p>\n",
    "<p>What value is displayed when the last expression (a) is evaluated? Explain your \n",
    "answer by indicating what happens in every executed statement<p>"
   ]
  },
  {
   "cell_type": "code",
   "execution_count": 6,
   "id": "23bb6234-a3e0-4f1f-a26f-a89944d08600",
   "metadata": {},
   "outputs": [
    {
     "name": "stdout",
     "output_type": "stream",
     "text": [
      "6\n"
     ]
    }
   ],
   "source": [
    "a = 0\n",
    "\n",
    "def b():\n",
    "    global a\n",
    "    a = c(a)\n",
    "\n",
    "def c(a):\n",
    "    return a + 2\n",
    "\n",
    "b()\n",
    "b()\n",
    "b()\n",
    "print(a)\n",
    "\n",
    "# Explaination\n",
    "\n",
    "# Initial State a = 0\n",
    "# First call to b()\n",
    "# b() is called, after that use global keyword\n",
    "# A global keyword is a keyword that allows a user to change a variable external the current scope.\n",
    "# sets a for c(a)\n",
    "# a is 0 so c(0) called after that 0+2 = 2\n",
    "# than a = 2 \n",
    "# same process do again for c(2) 2+2 = 4 \n",
    "# after that a = 4\n",
    "# and then c(4) = 4+2 = 6\n",
    "# so final output is 6"
   ]
  },
  {
   "cell_type": "markdown",
   "id": "e6c436e3-3973-48ef-bf5b-ce8ffa88c2d2",
   "metadata": {},
   "source": [
    "# Question 2\n",
    "<p>Function fileLength(), given to you, takes the name of a file as input and returns \n",
    "the length of the file: <p>\n",
    "<p>>>> fileLength('midterm.py')\n",
    "284 <p>\n",
    ">>> fileLength('idterm.py')\n",
    "<p>Traceback (most recent call last):\n",
    "File \"<pyshell#34>\", line 1, in <module>\n",
    " fileLength('idterm.py') <p>\n",
    "<p>File \"/Users/me/midterm.py\", line 3, in fileLength\n",
    " infile = open(filename)<p>\n",
    "<p>FileNotFoundError: [Errno 2] No such file or directory: \n",
    "'idterm.py'<p>\n",
    "<p>As shown above, if the file cannot be found by the interpreter or if it cannot be read \n",
    "as a text file, an exception will be raised. Modify function fileLength() so that a \n",
    "friendly message is printed instead:<p>\n",
    "<p>>>> fileLength('midterm.py')\n",
    "358 <p>\n",
    "<p>>>> fileLength('idterm.py')\n",
    "File idterm.py not found.<p>"
   ]
  },
  {
   "cell_type": "code",
   "execution_count": 49,
   "id": "ae752807-0070-4321-9bd6-5a9bdbfe1ea7",
   "metadata": {},
   "outputs": [
    {
     "name": "stdout",
     "output_type": "stream",
     "text": [
      "123\n",
      "File Filelnth.txt not found.\n"
     ]
    }
   ],
   "source": [
    "def fileLength(file):\n",
    "    \n",
    "    try:                          \n",
    "        file = open(file)   #open file\n",
    "        contents = file.read() # read file \n",
    "        file.close()  # close file\n",
    "        print(len(contents))\n",
    "    \n",
    "    except:                       # if file not exist then print the error stating \"file can not be found\"\n",
    "        print('File {} not found.'.format(file))\n",
    "\n",
    "fileLength('Filelength.txt')\n",
    "fileLength('Filelnth.txt')"
   ]
  },
  {
   "cell_type": "markdown",
   "id": "8e7e5e72-c501-4239-b003-3bc0582333f8",
   "metadata": {},
   "source": [
    "# Question 3\n",
    "<p>Write a class named Marsupial that can be used as shown below:<p>\n",
    "<p>>>> m = Marsupial()<p>\n",
    "<p>>>> m.put_in_pouch('doll')<p>\n",
    "<p>>>> m.put_in_pouch('firetruck')<p>\n",
    "<p>>>> m.put_in_pouch('kitten')<p>\n",
    "<p>>>> m.pouch_contents()<p>\n",
    "<p>['doll', 'firetruck', 'kitten']<p>\n",
    "<p>Now write a class named Kangaroo as a subclass of Marsupial that inherits all the \n",
    "attributes of Marsupial and also:<p>\n",
    "<p>a. extends the Marsupial __init__ constructor to take, as input, the \n",
    "coordinates x and y of the Kangaroo object,<p>\n",
    "<p>b. supports method jump that takes number values dx and dy as input and \n",
    "moves the kangaroo by dx units along the x-axis and by dy units along the y\u0002axis<p>\n",
    "<p>c. overloads the __str__ operator so it behaves as shown below.<p>"
   ]
  },
  {
   "cell_type": "code",
   "execution_count": 61,
   "id": "398c2f55-df37-4822-bb0f-eb5f8800b532",
   "metadata": {},
   "outputs": [
    {
     "name": "stdout",
     "output_type": "stream",
     "text": [
      "I am a Kangaroo located at coordinates (0,0)\n",
      "['doll', 'firetruck', 'kitten']\n",
      "I am a Kangaroo located at coordinates (3,0)\n"
     ]
    }
   ],
   "source": [
    "class Marsupial:\n",
    "    def __init__(point):\n",
    "        point.pouch = []\n",
    "    def put_in_pouch(point, item):\n",
    "        point.pouch.append(item)\n",
    "    def pouch_contents(point):\n",
    "        return point.pouch\n",
    "\n",
    "\n",
    "class Kangaroo(Marsupial):\n",
    "    def __init__(point, x, y):\n",
    "        super().__init__()  \n",
    "        point.x = x\n",
    "        point.y = y\n",
    "    def jump(point, dx, dy):\n",
    "        point.x = point.x + dx\n",
    "        point.y = point.y + dy\n",
    "    def __str__(point):\n",
    "        return f\"I am a Kangaroo located at coordinates ({point.x},{point.y})\"\n",
    "\n",
    "\n",
    "k = Kangaroo(0, 0)\n",
    "print(k) \n",
    "\n",
    "k.put_in_pouch('doll')\n",
    "k.put_in_pouch('firetruck')\n",
    "k.put_in_pouch('kitten')\n",
    "print(k.pouch_contents())  \n",
    "\n",
    "k.jump(1, 0)\n",
    "k.jump(1, 0)\n",
    "k.jump(1, 0)\n",
    "print(k)"
   ]
  },
  {
   "cell_type": "markdown",
   "id": "a93f0c21-d05c-48a6-b0fe-e99db0137792",
   "metadata": {},
   "source": [
    "# Question 4\n",
    "<p>Write function collatz() that takes a positive integer x as input and prints the \n",
    "Collatz sequence starting at x. A Collatz sequence is obtained by repeatedly applying \n",
    "this rule to the previous number x in the sequence:<p>\n",
    "\n",
    "<p>Your function should stop when the sequence gets to number 1. Your \n",
    "implementation must be recursive, without any loops<p>"
   ]
  },
  {
   "cell_type": "code",
   "execution_count": 16,
   "id": "0b1e6801-8cec-40a5-8622-3932d70f41e7",
   "metadata": {},
   "outputs": [
    {
     "name": "stdout",
     "output_type": "stream",
     "text": [
      ">>> collatz(1)\n",
      "1 \n",
      ">>> collatz(10)\n",
      "10 5 16 8 4 2 1 "
     ]
    }
   ],
   "source": [
    "def collatz(a):\n",
    "    print(a, end=' ')\n",
    "    if a == 1:\n",
    "        return\n",
    "    elif a % 2 == 0: # if the passed argument is a multiple of 2, then return is half, \n",
    "        collatz(a // 2)\n",
    "    else:  # x is odd\n",
    "        collatz(3 * a + 1) # returning the 1 plus 3 times the argument\n",
    "\n",
    "print(\">>> collatz(1)\")\n",
    "collatz(1)\n",
    "print()\n",
    "print(\">>> collatz(10)\")\n",
    "collatz(10)"
   ]
  },
  {
   "cell_type": "markdown",
   "id": "549262bc-9028-47b6-b609-dd59782a6c89",
   "metadata": {},
   "source": [
    "# Question 5\n",
    "<p>Write a recursive method binary() that takes a non-negative \n",
    "integer n and prints the binary representation of integer n.<p>\n"
   ]
  },
  {
   "cell_type": "code",
   "execution_count": 24,
   "id": "705f07f7-dd43-4ccd-b60f-89d409d527a0",
   "metadata": {},
   "outputs": [
    {
     "name": "stdout",
     "output_type": "stream",
     "text": [
      ">>> binary(0)\n",
      "0\n",
      ">>> binary(1)\n",
      "1\n",
      ">>> binary(3)\n",
      "11\n",
      ">>> binary(9)\n",
      "1001"
     ]
    }
   ],
   "source": [
    "def binary(x):\n",
    "    if x == 0 or x == 1: # checks if arg equals to 1 or 0\n",
    "        print(x, end='')\n",
    "    else:\n",
    "        binary(x // 2)  # else calls itself and passes the whole number of arg divided by 2\n",
    "        print(x % 2, end='')\n",
    "\n",
    "print(\">>> binary(0)\")\n",
    "binary(0)\n",
    "print()\n",
    "print(\">>> binary(1)\")\n",
    "binary(1)\n",
    "print()\n",
    "print(\">>> binary(3)\")\n",
    "binary(3)\n",
    "print()\n",
    "print(\">>> binary(9)\")\n",
    "binary(9)\n"
   ]
  },
  {
   "cell_type": "markdown",
   "id": "1aed90ca-b5a4-4f5b-939e-962d3f472282",
   "metadata": {},
   "source": [
    "# Question 6\n",
    "<p>Implement a class named HeadingParser that can be used to parse an HTML \n",
    "document, and retrieve and print all the headings in the document. You should \n",
    "implement your class as a subclass of HTMLParser, defined in Standard Library \n",
    "module html.parser. When fed a string containing HTML code, your class should \n",
    "print the headings, one per line and in the order in which they appear in the \n",
    "document. Each heading should be indented as follows: an h1 heading should haveindentation 0, and h2 heading should have indentation 1, etc. Test your \n",
    "implementation using w3c.html.<p>\n"
   ]
  },
  {
   "cell_type": "code",
   "execution_count": 60,
   "id": "28fe520d-98a8-4bf9-b5c4-7b60f9717844",
   "metadata": {},
   "outputs": [
    {
     "name": "stdout",
     "output_type": "stream",
     "text": [
      "W3C Mission\n",
      " Principles\n"
     ]
    }
   ],
   "source": [
    "from html.parser import HTMLParser # import html parser\n",
    "# HeadingParser class as subclass of HTMLParser\n",
    "class HeadingParser(HTMLParser):\n",
    "    def __init__(self):\n",
    "        super().__init__()\n",
    "        self.current_tag = None\n",
    "\n",
    "    def handle_starttag(self, tag, attrs):\n",
    "        if tag in ['h1', 'h2', 'h3', 'h4', 'h5', 'h6']:\n",
    "            self.current_tag = tag\n",
    "\n",
    "    def handle_data(self, data):\n",
    "        if self.current_tag:\n",
    "            level = int(self.current_tag[1])\n",
    "            print(' ' * (level - 1) + data)\n",
    "\n",
    "    def handle_endtag(self, tag):\n",
    "        if tag == self.current_tag:\n",
    "            self.current_tag = None\n",
    "\n",
    "if __name__ == '__main__':\n",
    "    infile = open('w3c.html')\n",
    "    content = infile.read()\n",
    "    infile.close()\n",
    "    \n",
    "#calling the class HeadingParser\n",
    "parser  = HeadingParser()\n",
    "parser .feed(content)\n"
   ]
  },
  {
   "cell_type": "markdown",
   "id": "0b59eac6-83a7-4aea-9f32-1662492dbe1a",
   "metadata": {},
   "source": [
    "# Question 7\n",
    "<p>Implement recursive function webdir() that takes as input: a URL (as a string) and \n",
    "non-negative integers depth and indent. Your function should visit every web \n",
    "page reachable from the starting URL web page in depth clicks or less, and print \n",
    "each web page's URL. As shown below, indentation, specified by indent, should \n",
    "be used to indicate the depth of a URL.<p>\n",
    ">>> \n",
    "webdir('http://reed.cs.depaul.edu/lperkovic/csc242/test1.html'\n",
    ", 2, 0)\n",
    "http://reed.cs.depaul.edu/lperkovic/csc242/test1.html\n",
    " http://reed.cs.depaul.edu/lperkovic/csc242/test2.html\n",
    " http://reed.cs.depaul.edu/lperkovic/csc242/test4.html\n",
    " http://reed.cs.depaul.edu/lperkovic/csc242/test3.html\n",
    " http://reed.cs.depaul.edu/lperkovic/csc242/test4.html"
   ]
  },
  {
   "cell_type": "code",
   "execution_count": 84,
   "id": "e6b01546-d020-4197-944f-40f93c057d76",
   "metadata": {},
   "outputs": [
    {
     "name": "stdout",
     "output_type": "stream",
     "text": [
      "http://reed.cs.depaul.edu/lperkovic/test1.html\n",
      "  http://reed.cs.depaul.edu/lperkovic/test2.html\n",
      "    http://reed.cs.depaul.edu/lperkovic/test4.html\n",
      "  http://reed.cs.depaul.edu/lperkovic/test3.html\n",
      "    http://reed.cs.depaul.edu/lperkovic/test4.html\n"
     ]
    }
   ],
   "source": [
    "\n",
    "import requests\n",
    "from bs4 import BeautifulSoup\n",
    "from urllib.parse import urljoin, urlparse\n",
    "\n",
    "# import 3 library \n",
    "\n",
    "def webdir(url, depth, indent):\n",
    "    print(' ' * indent + url)  # print URL with indentation\n",
    "\n",
    "    if depth == 0:\n",
    "        return  \n",
    "\n",
    "    try:\n",
    "        response = requests.get(url)\n",
    "        soup = BeautifulSoup(response.text, 'html.parser')\n",
    "        for link in soup.find_all('a', href=True):\n",
    "            href = link['href']\n",
    "            if href.startswith('http'): \n",
    "                new_url = href\n",
    "            else: \n",
    "                new_url = urljoin(url, href)\n",
    "            parsed_url = urlparse(new_url)\n",
    "            if parsed_url.netloc == urlparse(url).netloc: \n",
    "                webdir(new_url, depth - 1, indent + 2)\n",
    "    except requests.exceptions.RequestException as e:\n",
    "        print(f\"Error: {e}\")  # handle request errors\n",
    "\n",
    "webdir('http://reed.cs.depaul.edu/lperkovic/test1.html', 2, 0)"
   ]
  },
  {
   "cell_type": "markdown",
   "id": "5a286fa8-9b9f-400c-a534-ff5a5d869fc4",
   "metadata": {},
   "source": [
    "# Question 8\n",
    "<p>Write SQL queries on the below database table that return: <p>\n"
   ]
  },
  {
   "cell_type": "markdown",
   "id": "e539b30a-13eb-4cf2-9aec-e0032a05b84e",
   "metadata": {},
   "source": [
    "<p>a) All the temperature data.<p>"
   ]
  },
  {
   "cell_type": "code",
   "execution_count": null,
   "id": "0551e097-6bdb-4d8b-955c-badfc022b533",
   "metadata": {},
   "outputs": [],
   "source": [
    "# assume table name is cityData\n",
    "SELECT Temperature FROM CityData;"
   ]
  },
  {
   "cell_type": "markdown",
   "id": "72a16a02-6a7e-4cc2-99ba-c31dd62f2166",
   "metadata": {},
   "source": [
    "<p>b) All the cities, but without repetition.<p>"
   ]
  },
  {
   "cell_type": "code",
   "execution_count": null,
   "id": "be560126-30b0-4885-a86d-4fe4d55e8126",
   "metadata": {},
   "outputs": [],
   "source": [
    "SELECT DISTINCT City FROM CityData;"
   ]
  },
  {
   "cell_type": "markdown",
   "id": "a4d409b9-28cf-407a-a77e-243ed8ce3bcd",
   "metadata": {},
   "source": [
    "<p>c) All the records for India.<p>"
   ]
  },
  {
   "cell_type": "code",
   "execution_count": null,
   "id": "e427d21f-ad69-4799-b50f-eea8a1ff8d99",
   "metadata": {},
   "outputs": [],
   "source": [
    "SELECT * FROM CityData WHERE Country = 'India';"
   ]
  },
  {
   "cell_type": "markdown",
   "id": "44544eb0-efff-47a7-bbc6-e77a4cb5c779",
   "metadata": {},
   "source": [
    "<p>d) All the Fall records<p>"
   ]
  },
  {
   "cell_type": "code",
   "execution_count": null,
   "id": "329ee506-7f8d-4e4a-b090-5b8d755f830c",
   "metadata": {},
   "outputs": [],
   "source": [
    "SELECT * FROM CityData WHERE Season = 'Fall';"
   ]
  },
  {
   "cell_type": "markdown",
   "id": "ed0d6857-9042-41e5-81d0-67728099c9a2",
   "metadata": {},
   "source": [
    "<p>e) The city, country, and season for which the average rainfall is between 200 \n",
    "and 400 millimeters.<p>"
   ]
  },
  {
   "cell_type": "code",
   "execution_count": null,
   "id": "b9e3e975-6ba0-43f1-8514-e04b3dcc311b",
   "metadata": {},
   "outputs": [],
   "source": [
    "SELECT City, Country, Season \n",
    "FROM CityData \n",
    "GROUP BY City, Country, Season \n",
    "HAVING AVG(Rainfall) BETWEEN 200 AND 400;"
   ]
  },
  {
   "cell_type": "markdown",
   "id": "7e1e246e-b75b-414b-8162-6d0b641bb18c",
   "metadata": {},
   "source": [
    "<p>f) The city and country for which the average Fall temperature is above 20 \n",
    "degrees, in increasing temperature order.<p>"
   ]
  },
  {
   "cell_type": "code",
   "execution_count": null,
   "id": "b1ec510e-a432-41d5-8219-fc02e5ad7b0c",
   "metadata": {},
   "outputs": [],
   "source": [
    "SELECT City, Country \n",
    "FROM CityData \n",
    "WHERE Season = 'Fall' \n",
    "GROUP BY City, Country \n",
    "HAVING AVG(Temperature) > 20 \n",
    "ORDER BY AVG(Temperature) ASC;"
   ]
  },
  {
   "cell_type": "markdown",
   "id": "6cef3bff-e327-42be-a129-61eb5224103f",
   "metadata": {},
   "source": [
    "<p>g) The total annual rainfall for Cairo.<p>"
   ]
  },
  {
   "cell_type": "code",
   "execution_count": null,
   "id": "451c7bd5-6c66-4ae5-a637-b25643b9c64e",
   "metadata": {},
   "outputs": [],
   "source": [
    "SELECT SUM(Rainfall) \n",
    "FROM CityData \n",
    "WHERE City = 'Cairo';"
   ]
  },
  {
   "cell_type": "markdown",
   "id": "aa49ec96-53b3-49f3-bb5b-75c22c638431",
   "metadata": {},
   "source": [
    "<p>h) The total rainfall for each season.<p>"
   ]
  },
  {
   "cell_type": "code",
   "execution_count": null,
   "id": "08eca76e-9dc6-4728-9c23-f27923f38378",
   "metadata": {},
   "outputs": [],
   "source": [
    "SELECT Season, SUM(Rainfall) \n",
    "FROM CityData \n",
    "GROUP BY Season;"
   ]
  },
  {
   "cell_type": "markdown",
   "id": "f551b2ef-4df5-45a7-9a9c-8a59b3fba973",
   "metadata": {},
   "source": [
    "# Question 9\n",
    "\n",
    "<p>Suppose list words is defined as follows:\n",
    ">>> words = ['The', 'quick', 'brown', 'fox', 'jumps', 'over', \n",
    "'the', 'lazy', 'dog']\n",
    "Write list comprehension expressions that use list words and generate the following \n",
    "lists:<p>"
   ]
  },
  {
   "cell_type": "markdown",
   "id": "da4bdfef-03fd-462f-81d8-da95c663835b",
   "metadata": {},
   "source": [
    "<p>a) ['THE', 'QUICK', 'BROWN', 'FOX', 'JUMPS', 'OVER', 'THE', \n",
    "'LAZY', 'DOG']<p>\n"
   ]
  },
  {
   "cell_type": "code",
   "execution_count": 1,
   "id": "f6ec8097-7958-402a-85ab-7e1844595d08",
   "metadata": {},
   "outputs": [
    {
     "name": "stdout",
     "output_type": "stream",
     "text": [
      "['THE', 'QUICK', 'BROWN', 'FOX', 'JUMPS', 'OVER', 'THE', 'LAZY', 'DOG']\n"
     ]
    }
   ],
   "source": [
    "words = ['The', 'quick', 'brown', 'fox', 'jumps', 'over', 'the', 'lazy', 'dog']\n",
    "Capitalword = [word.upper() for word in words]  \n",
    "#upper() method to convert normal list string to Upper list string .\n",
    "print(Capitalword)"
   ]
  },
  {
   "cell_type": "markdown",
   "id": "1ea40367-5ebb-451d-85f9-04df71c6bd8a",
   "metadata": {},
   "source": [
    "b) ['the', 'quick', 'brown', 'fox', 'jumps', 'over', 'the', \n",
    "'lazy', 'dog']"
   ]
  },
  {
   "cell_type": "code",
   "execution_count": 49,
   "id": "165f4616-1a79-4714-bfb1-bc4796f8fe9a",
   "metadata": {},
   "outputs": [
    {
     "name": "stdout",
     "output_type": "stream",
     "text": [
      "['the', 'quick', 'brown', 'fox', 'jumps', 'over', 'the', 'lazy', 'dog']\n"
     ]
    }
   ],
   "source": [
    "words = ['The', 'quick', 'brown', 'fox', 'jumps', 'over', 'the', 'lazy', 'dog']\n",
    "LowerWord = [word.lower() for word in words] \n",
    "#lower() method to convert normal list string to Lower list string .\n",
    "print(LowerWord)"
   ]
  },
  {
   "cell_type": "markdown",
   "id": "d8b993fd-544c-4a7e-b492-90d3c974397c",
   "metadata": {},
   "source": [
    "c) [3, 5, 5, 3, 5, 4, 3, 4, 3] (the list of lengths of words in list \n",
    "words)"
   ]
  },
  {
   "cell_type": "code",
   "execution_count": 50,
   "id": "b36df893-c09f-4d0a-948b-38d18f5eae08",
   "metadata": {},
   "outputs": [
    {
     "name": "stdout",
     "output_type": "stream",
     "text": [
      "[3, 5, 5, 3, 5, 4, 3, 4, 3]\n"
     ]
    }
   ],
   "source": [
    "\n",
    "words = ['The', 'quick', 'brown', 'fox', 'jumps', 'over', 'the', 'lazy', 'dog']\n",
    "lenItem = [len(word) for word in words]  \n",
    "#len() method use for list string length measurnment\n",
    "print(lenItem)"
   ]
  },
  {
   "cell_type": "markdown",
   "id": "8c4a5dfe-5862-46be-b1c5-fe6e90b6a6e8",
   "metadata": {},
   "source": [
    "d) [['THE', 'the', 3], ['QUICK', 'quick', 5], ['BROWN', \n",
    "'brown', 5], ['FOX', 'fox', 3], ['JUMPS', 'jumps', 5], \n",
    "['OVER', 'over', 4], ['THE', 'the', 3], ['LAZY', 'lazy', \n",
    "4], ['DOG', 'dog', 3]] (the list containing a list for every word of list \n",
    "words, where each list contains the word in uppercase and lowercase and the \n",
    "length of the word.)"
   ]
  },
  {
   "cell_type": "code",
   "execution_count": 52,
   "id": "96a791bf-5b23-40dd-922e-8528e3fc18ab",
   "metadata": {},
   "outputs": [
    {
     "name": "stdout",
     "output_type": "stream",
     "text": [
      "[['THE', 'the', 3], ['QUICK', 'quick', 5], ['BROWN', 'brown', 5], ['FOX', 'fox', 3], ['JUMPS', 'jumps', 5], ['OVER', 'over', 4], ['THE', 'the', 3], ['LAZY', 'lazy', 4], ['DOG', 'dog', 3]]\n"
     ]
    }
   ],
   "source": [
    "\n",
    "words = ['The', 'quick', 'brown', 'fox', 'jumps', 'over', 'the', 'lazy', 'dog']\n",
    "mixitem = [[word.upper(), word.lower(), len(word)] for word in words]\n",
    "# each inner list contains the word in uppercase, lowercase, and its length and combine this use in list\n",
    "print(mixitem)"
   ]
  },
  {
   "cell_type": "markdown",
   "id": "0cfa58f4-e4f2-442d-a8e0-783806c25b65",
   "metadata": {},
   "source": [
    "e) ['The', 'quick', 'brown', 'fox', 'jumps', 'over', 'the', \n",
    "'lazy', 'dog'] (the list of words in list words containing 4 or more \n",
    "characters."
   ]
  },
  {
   "cell_type": "code",
   "execution_count": 53,
   "id": "ff5ff953-194b-4283-9ff5-7cdd9f3d8964",
   "metadata": {},
   "outputs": [
    {
     "name": "stdout",
     "output_type": "stream",
     "text": [
      "['quick', 'brown', 'jumps', 'over', 'lazy']\n"
     ]
    }
   ],
   "source": [
    "words = ['The', 'quick', 'brown', 'fox', 'jumps', 'over', 'the', 'lazy', 'dog']\n",
    "item = [word for word in words if len(word) >= 4] \n",
    "# use condition to show 4 or more than 4 list string only \n",
    "print(item)"
   ]
  },
  {
   "cell_type": "code",
   "execution_count": null,
   "id": "05df8395-f9e1-4809-8477-e83bca232f95",
   "metadata": {},
   "outputs": [],
   "source": []
  }
 ],
 "metadata": {
  "kernelspec": {
   "display_name": "Python 3 (ipykernel)",
   "language": "python",
   "name": "python3"
  },
  "language_info": {
   "codemirror_mode": {
    "name": "ipython",
    "version": 3
   },
   "file_extension": ".py",
   "mimetype": "text/x-python",
   "name": "python",
   "nbconvert_exporter": "python",
   "pygments_lexer": "ipython3",
   "version": "3.12.3"
  }
 },
 "nbformat": 4,
 "nbformat_minor": 5
}
